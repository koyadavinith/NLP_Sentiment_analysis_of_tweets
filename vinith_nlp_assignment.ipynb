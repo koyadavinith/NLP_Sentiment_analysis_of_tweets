{
 "cells": [
  {
   "cell_type": "markdown",
   "id": "ae4ea407",
   "metadata": {},
   "source": [
    "## Importing Libraries and data"
   ]
  },
  {
   "cell_type": "code",
   "execution_count": 35,
   "id": "050dc0a3",
   "metadata": {},
   "outputs": [],
   "source": [
    "import pandas as pd\n",
    "import json\n",
    "import nltk\n",
    "from nltk.corpus import stopwords\n",
    "import spacy\n",
    "import string\n",
    "import re\n",
    "from nltk.stem import WordNetLemmatizer\n",
    "from sklearn.feature_extraction.text import CountVectorizer\n",
    "from nltk.sentiment import SentimentIntensityAnalyzer"
   ]
  },
  {
   "cell_type": "code",
   "execution_count": 3,
   "id": "a3a8c170",
   "metadata": {},
   "outputs": [],
   "source": [
    "with open('tweets.json') as jfile:\n",
    "    d = json.load(jfile)"
   ]
  },
  {
   "cell_type": "code",
   "execution_count": 4,
   "id": "240b3e28",
   "metadata": {},
   "outputs": [],
   "source": [
    "df = pd.DataFrame(d)\n",
    "df = df.T"
   ]
  },
  {
   "cell_type": "code",
   "execution_count": 5,
   "id": "503c98f8",
   "metadata": {},
   "outputs": [
    {
     "name": "stdout",
     "output_type": "stream",
     "text": [
      "<class 'pandas.core.frame.DataFrame'>\n",
      "Index: 43347 entries, 1374140386071961602 to 550579446537678849\n",
      "Data columns (total 2 columns):\n",
      " #   Column        Non-Null Count  Dtype \n",
      "---  ------        --------------  ----- \n",
      " 0   tweet_author  43347 non-null  object\n",
      " 1   tweet_text    43347 non-null  object\n",
      "dtypes: object(2)\n",
      "memory usage: 1015.9+ KB\n"
     ]
    }
   ],
   "source": [
    "df.info()"
   ]
  },
  {
   "cell_type": "code",
   "execution_count": 6,
   "id": "2f201e13",
   "metadata": {},
   "outputs": [],
   "source": [
    "pd.set_option('display.max_columns', None)"
   ]
  },
  {
   "cell_type": "code",
   "execution_count": 7,
   "id": "b428331e",
   "metadata": {
    "scrolled": true
   },
   "outputs": [
    {
     "data": {
      "text/plain": [
       "'NICE backs AstraZeneca’s Calquence for CLL https://t.co/FTEaEMFSW7 #pharma #lifesciences'"
      ]
     },
     "execution_count": 7,
     "metadata": {},
     "output_type": "execute_result"
    }
   ],
   "source": [
    "df['tweet_text'].values[20]"
   ]
  },
  {
   "cell_type": "code",
   "execution_count": 8,
   "id": "c303996e",
   "metadata": {},
   "outputs": [
    {
     "data": {
      "text/html": [
       "<div>\n",
       "<style scoped>\n",
       "    .dataframe tbody tr th:only-of-type {\n",
       "        vertical-align: middle;\n",
       "    }\n",
       "\n",
       "    .dataframe tbody tr th {\n",
       "        vertical-align: top;\n",
       "    }\n",
       "\n",
       "    .dataframe thead th {\n",
       "        text-align: right;\n",
       "    }\n",
       "</style>\n",
       "<table border=\"1\" class=\"dataframe\">\n",
       "  <thead>\n",
       "    <tr style=\"text-align: right;\">\n",
       "      <th></th>\n",
       "      <th>tweet_author</th>\n",
       "      <th>tweet_text</th>\n",
       "    </tr>\n",
       "  </thead>\n",
       "  <tbody>\n",
       "    <tr>\n",
       "      <th>1374140386071961602</th>\n",
       "      <td>Hematopoiesis News</td>\n",
       "      <td>⚕️ Scientists conducted a Phase II study of ac...</td>\n",
       "    </tr>\n",
       "    <tr>\n",
       "      <th>1374032432173842437</th>\n",
       "      <td>Michael Wang, MD</td>\n",
       "      <td>This phase 2 Acalabrutinib-Venetoclax (AV) tri...</td>\n",
       "    </tr>\n",
       "    <tr>\n",
       "      <th>1373902876553048065</th>\n",
       "      <td>1stOncology</td>\n",
       "      <td>#NICE backs #AstraZenecas #Calquence for #CLL ...</td>\n",
       "    </tr>\n",
       "    <tr>\n",
       "      <th>1373656782367813635</th>\n",
       "      <td>Toby Eyre</td>\n",
       "      <td>#acalabrutinib is a valuable option in pts int...</td>\n",
       "    </tr>\n",
       "    <tr>\n",
       "      <th>1372941634334232586</th>\n",
       "      <td>Lymphoma Hub</td>\n",
       "      <td>NICE has recommended the use of acalabrutinib ...</td>\n",
       "    </tr>\n",
       "  </tbody>\n",
       "</table>\n",
       "</div>"
      ],
      "text/plain": [
       "                           tweet_author  \\\n",
       "1374140386071961602  Hematopoiesis News   \n",
       "1374032432173842437    Michael Wang, MD   \n",
       "1373902876553048065         1stOncology   \n",
       "1373656782367813635           Toby Eyre   \n",
       "1372941634334232586        Lymphoma Hub   \n",
       "\n",
       "                                                            tweet_text  \n",
       "1374140386071961602  ⚕️ Scientists conducted a Phase II study of ac...  \n",
       "1374032432173842437  This phase 2 Acalabrutinib-Venetoclax (AV) tri...  \n",
       "1373902876553048065  #NICE backs #AstraZenecas #Calquence for #CLL ...  \n",
       "1373656782367813635  #acalabrutinib is a valuable option in pts int...  \n",
       "1372941634334232586  NICE has recommended the use of acalabrutinib ...  "
      ]
     },
     "execution_count": 8,
     "metadata": {},
     "output_type": "execute_result"
    }
   ],
   "source": [
    "df.head()"
   ]
  },
  {
   "cell_type": "markdown",
   "id": "9f63e65b",
   "metadata": {},
   "source": [
    "## Data_Cleaning"
   ]
  },
  {
   "cell_type": "code",
   "execution_count": 9,
   "id": "e52eebc2",
   "metadata": {},
   "outputs": [
    {
     "data": {
      "text/plain": [
       "tweet_author    0\n",
       "tweet_text      0\n",
       "dtype: int64"
      ]
     },
     "execution_count": 9,
     "metadata": {},
     "output_type": "execute_result"
    }
   ],
   "source": [
    "#checking for null values\n",
    "df.isna().sum()"
   ]
  },
  {
   "cell_type": "code",
   "execution_count": 10,
   "id": "9573c49e",
   "metadata": {},
   "outputs": [
    {
     "data": {
      "text/html": [
       "<div>\n",
       "<style scoped>\n",
       "    .dataframe tbody tr th:only-of-type {\n",
       "        vertical-align: middle;\n",
       "    }\n",
       "\n",
       "    .dataframe tbody tr th {\n",
       "        vertical-align: top;\n",
       "    }\n",
       "\n",
       "    .dataframe thead th {\n",
       "        text-align: right;\n",
       "    }\n",
       "</style>\n",
       "<table border=\"1\" class=\"dataframe\">\n",
       "  <thead>\n",
       "    <tr style=\"text-align: right;\">\n",
       "      <th></th>\n",
       "      <th>tweet_author</th>\n",
       "      <th>tweet_text</th>\n",
       "    </tr>\n",
       "  </thead>\n",
       "  <tbody>\n",
       "    <tr>\n",
       "      <th>1374140386071961602</th>\n",
       "      <td>Hematopoiesis News</td>\n",
       "      <td>⚕️ Scientists conducted a Phase II study of ac...</td>\n",
       "    </tr>\n",
       "    <tr>\n",
       "      <th>1374032432173842437</th>\n",
       "      <td>Michael Wang, MD</td>\n",
       "      <td>This phase 2 Acalabrutinib-Venetoclax (AV) tri...</td>\n",
       "    </tr>\n",
       "    <tr>\n",
       "      <th>1373902876553048065</th>\n",
       "      <td>1stOncology</td>\n",
       "      <td>#NICE backs #AstraZenecas #Calquence for #CLL ...</td>\n",
       "    </tr>\n",
       "    <tr>\n",
       "      <th>1373656782367813635</th>\n",
       "      <td>Toby Eyre</td>\n",
       "      <td>#acalabrutinib is a valuable option in pts int...</td>\n",
       "    </tr>\n",
       "    <tr>\n",
       "      <th>1372941634334232586</th>\n",
       "      <td>Lymphoma Hub</td>\n",
       "      <td>NICE has recommended the use of acalabrutinib ...</td>\n",
       "    </tr>\n",
       "  </tbody>\n",
       "</table>\n",
       "</div>"
      ],
      "text/plain": [
       "                           tweet_author  \\\n",
       "1374140386071961602  Hematopoiesis News   \n",
       "1374032432173842437    Michael Wang, MD   \n",
       "1373902876553048065         1stOncology   \n",
       "1373656782367813635           Toby Eyre   \n",
       "1372941634334232586        Lymphoma Hub   \n",
       "\n",
       "                                                            tweet_text  \n",
       "1374140386071961602  ⚕️ Scientists conducted a Phase II study of ac...  \n",
       "1374032432173842437  This phase 2 Acalabrutinib-Venetoclax (AV) tri...  \n",
       "1373902876553048065  #NICE backs #AstraZenecas #Calquence for #CLL ...  \n",
       "1373656782367813635  #acalabrutinib is a valuable option in pts int...  \n",
       "1372941634334232586  NICE has recommended the use of acalabrutinib ...  "
      ]
     },
     "execution_count": 10,
     "metadata": {},
     "output_type": "execute_result"
    }
   ],
   "source": [
    "df.head()"
   ]
  },
  {
   "cell_type": "code",
   "execution_count": 11,
   "id": "820f89ea",
   "metadata": {},
   "outputs": [
    {
     "data": {
      "text/plain": [
       "1529"
      ]
     },
     "execution_count": 11,
     "metadata": {},
     "output_type": "execute_result"
    }
   ],
   "source": [
    "#checking for duplicate rows\n",
    "df.duplicated().sum()"
   ]
  },
  {
   "cell_type": "code",
   "execution_count": 12,
   "id": "daf3ce08",
   "metadata": {},
   "outputs": [],
   "source": [
    "#dropping the duplicates\n",
    "df.drop_duplicates(inplace = True)"
   ]
  },
  {
   "cell_type": "code",
   "execution_count": 13,
   "id": "d49d4ad1",
   "metadata": {},
   "outputs": [],
   "source": [
    "# Here this Index is not needed so reset_index\n",
    "df.reset_index(inplace = True,drop = True)"
   ]
  },
  {
   "cell_type": "code",
   "execution_count": 14,
   "id": "d9504555",
   "metadata": {},
   "outputs": [
    {
     "data": {
      "text/html": [
       "<div>\n",
       "<style scoped>\n",
       "    .dataframe tbody tr th:only-of-type {\n",
       "        vertical-align: middle;\n",
       "    }\n",
       "\n",
       "    .dataframe tbody tr th {\n",
       "        vertical-align: top;\n",
       "    }\n",
       "\n",
       "    .dataframe thead th {\n",
       "        text-align: right;\n",
       "    }\n",
       "</style>\n",
       "<table border=\"1\" class=\"dataframe\">\n",
       "  <thead>\n",
       "    <tr style=\"text-align: right;\">\n",
       "      <th></th>\n",
       "      <th>tweet_author</th>\n",
       "      <th>tweet_text</th>\n",
       "    </tr>\n",
       "  </thead>\n",
       "  <tbody>\n",
       "    <tr>\n",
       "      <th>0</th>\n",
       "      <td>Hematopoiesis News</td>\n",
       "      <td>⚕️ Scientists conducted a Phase II study of ac...</td>\n",
       "    </tr>\n",
       "    <tr>\n",
       "      <th>1</th>\n",
       "      <td>Michael Wang, MD</td>\n",
       "      <td>This phase 2 Acalabrutinib-Venetoclax (AV) tri...</td>\n",
       "    </tr>\n",
       "    <tr>\n",
       "      <th>2</th>\n",
       "      <td>1stOncology</td>\n",
       "      <td>#NICE backs #AstraZenecas #Calquence for #CLL ...</td>\n",
       "    </tr>\n",
       "    <tr>\n",
       "      <th>3</th>\n",
       "      <td>Toby Eyre</td>\n",
       "      <td>#acalabrutinib is a valuable option in pts int...</td>\n",
       "    </tr>\n",
       "    <tr>\n",
       "      <th>4</th>\n",
       "      <td>Lymphoma Hub</td>\n",
       "      <td>NICE has recommended the use of acalabrutinib ...</td>\n",
       "    </tr>\n",
       "  </tbody>\n",
       "</table>\n",
       "</div>"
      ],
      "text/plain": [
       "         tweet_author                                         tweet_text\n",
       "0  Hematopoiesis News  ⚕️ Scientists conducted a Phase II study of ac...\n",
       "1    Michael Wang, MD  This phase 2 Acalabrutinib-Venetoclax (AV) tri...\n",
       "2         1stOncology  #NICE backs #AstraZenecas #Calquence for #CLL ...\n",
       "3           Toby Eyre  #acalabrutinib is a valuable option in pts int...\n",
       "4        Lymphoma Hub  NICE has recommended the use of acalabrutinib ..."
      ]
     },
     "execution_count": 14,
     "metadata": {},
     "output_type": "execute_result"
    }
   ],
   "source": [
    "df.head()"
   ]
  },
  {
   "cell_type": "code",
   "execution_count": 15,
   "id": "f13ebd24",
   "metadata": {},
   "outputs": [
    {
     "data": {
      "text/plain": [
       "0        ⚕️ scientists conducted a phase ii study of ac...\n",
       "1        this phase 2 acalabrutinib-venetoclax (av) tri...\n",
       "2        #nice backs #astrazenecas #calquence for #cll ...\n",
       "3        #acalabrutinib is a valuable option in pts int...\n",
       "4        nice has recommended the use of acalabrutinib ...\n",
       "                               ...                        \n",
       "41813    what i'd do to go to gerrard's last game at an...\n",
       "41814    hanging out with friends! :) #ff #cll #happine...\n",
       "41815    zusatznutzen von #idelalisib ist weder für #cl...\n",
       "41816    #hematología ptk2 expression and immunochemoth...\n",
       "41817    #hematología mutations in tlr/myd88 pathway id...\n",
       "Name: tweet_text, Length: 41818, dtype: object"
      ]
     },
     "execution_count": 15,
     "metadata": {},
     "output_type": "execute_result"
    }
   ],
   "source": [
    "# text_cleaning\n",
    "text = df['tweet_text']\n",
    "\n",
    "text = text.str.lower()   #lowering_letters\n",
    "text"
   ]
  },
  {
   "cell_type": "code",
   "execution_count": 16,
   "id": "1c70f203",
   "metadata": {},
   "outputs": [
    {
     "data": {
      "text/plain": [
       "41813    what i'd do to go to gerrard's last game at an...\n",
       "41814    hanging out with friends! :) #ff #cll #happiness \n",
       "41815    zusatznutzen von #idelalisib ist weder für #cl...\n",
       "41816    #hematología ptk2 expression and immunochemoth...\n",
       "41817    #hematología mutations in tlr/myd88 pathway id...\n",
       "Name: tweet_text, dtype: object"
      ]
     },
     "execution_count": 16,
     "metadata": {},
     "output_type": "execute_result"
    }
   ],
   "source": [
    "def cleaning_URLs(data):\n",
    "    return re.sub(r'http\\S+', '', data)\n",
    "text = text.apply(lambda x: cleaning_URLs(x))\n",
    "text.tail()"
   ]
  },
  {
   "cell_type": "code",
   "execution_count": 17,
   "id": "9a9c8254",
   "metadata": {},
   "outputs": [
    {
     "data": {
      "text/plain": [
       "41813    what i'd do to go to gerrard's last game at an...\n",
       "41814                     hanging out with friends! :)    \n",
       "41815    zusatznutzen von  ist weder für  noch für refr...\n",
       "41816    ía ptk2 expression and immunochemotherapy outc...\n",
       "41817    ía mutations in tlr/myd88 pathway identify a s...\n",
       "Name: tweet_text, dtype: object"
      ]
     },
     "execution_count": 17,
     "metadata": {},
     "output_type": "execute_result"
    }
   ],
   "source": [
    "def clean_meantion_hashtag(t):\n",
    "    temp = re.sub(\"@[A-Za-z0-9_]+\",\"\", t)\n",
    "    temp1 = re.sub(\"#[A-Za-z0-9_]+\",\"\", temp)\n",
    "    return temp1\n",
    "text = text.apply(lambda x : clean_meantion_hashtag(x))\n",
    "text.tail()"
   ]
  },
  {
   "cell_type": "code",
   "execution_count": 18,
   "id": "0a77adc0",
   "metadata": {},
   "outputs": [],
   "source": [
    "#remove lines-->'\\n'\n",
    "def remove_newline(data):\n",
    "    return re.sub('\\s+',' ',data)\n",
    "text = text.apply(lambda x : remove_newline(x))"
   ]
  },
  {
   "cell_type": "code",
   "execution_count": 19,
   "id": "4c4e359d",
   "metadata": {},
   "outputs": [
    {
     "data": {
      "text/plain": [
       "0     scientists conducted a phase ii study of acal...\n",
       "1    this phase acalabrutinib venetoclax av trial t...\n",
       "2                                           backs for \n",
       "3     is a valuable option in pts intolerant to fur...\n",
       "4    nice has recommended the use of acalabrutinib ...\n",
       "Name: tweet_text, dtype: object"
      ]
     },
     "execution_count": 19,
     "metadata": {},
     "output_type": "execute_result"
    }
   ],
   "source": [
    "#remove_emojis,numbers.\n",
    "text = text.apply(lambda x: re.sub('[^a-z]+',' ',x))\n",
    "text.head()"
   ]
  },
  {
   "cell_type": "code",
   "execution_count": 20,
   "id": "3f2d2ea6",
   "metadata": {},
   "outputs": [],
   "source": [
    "alphabets = list('abcdefghijklmnopqrstuvwxyz')"
   ]
  },
  {
   "cell_type": "code",
   "execution_count": 24,
   "id": "648cbe9f",
   "metadata": {
    "scrolled": false
   },
   "outputs": [
    {
     "data": {
      "text/plain": [
       "0    scientist conducted phase ii study acalabrutin...\n",
       "1    phase acalabrutinib venetoclax av trial still ...\n",
       "2                                                 back\n",
       "3    valuable option pt intolerant valuable data he...\n",
       "4    nice recommended use acalabrutinib patient tre...\n",
       "Name: tweet_text, dtype: object"
      ]
     },
     "execution_count": 24,
     "metadata": {},
     "output_type": "execute_result"
    }
   ],
   "source": [
    "lemma = WordNetLemmatizer()\n",
    "def cleaning_stopwordsand_lemmatize(text):\n",
    "    return \" \".join([lemma.lemmatize(word) for word in text.split() if word not in set(stopwords.words('english')+alphabets)])\n",
    "text = text.apply(lambda text: cleaning_stopwordsand_lemmatize(text))\n",
    "text.head()"
   ]
  },
  {
   "cell_type": "markdown",
   "id": "6e441274",
   "metadata": {},
   "source": [
    "## OBJECTIVE-1"
   ]
  },
  {
   "cell_type": "code",
   "execution_count": 26,
   "id": "00eade00",
   "metadata": {},
   "outputs": [],
   "source": [
    "cv =  CountVectorizer(ngram_range=(2,3))\n",
    "obj1 = cv.fit(text)\n",
    "x = obj1.vocabulary_"
   ]
  },
  {
   "cell_type": "code",
   "execution_count": 27,
   "id": "66bc025e",
   "metadata": {},
   "outputs": [
    {
     "data": {
      "text/html": [
       "<div>\n",
       "<style scoped>\n",
       "    .dataframe tbody tr th:only-of-type {\n",
       "        vertical-align: middle;\n",
       "    }\n",
       "\n",
       "    .dataframe tbody tr th {\n",
       "        vertical-align: top;\n",
       "    }\n",
       "\n",
       "    .dataframe thead th {\n",
       "        text-align: right;\n",
       "    }\n",
       "</style>\n",
       "<table border=\"1\" class=\"dataframe\">\n",
       "  <thead>\n",
       "    <tr style=\"text-align: right;\">\n",
       "      <th></th>\n",
       "      <th>entity</th>\n",
       "      <th>frequency</th>\n",
       "    </tr>\n",
       "  </thead>\n",
       "  <tbody>\n",
       "    <tr>\n",
       "      <th>0</th>\n",
       "      <td>zytuxtm newly diagnosed</td>\n",
       "      <td>349060</td>\n",
       "    </tr>\n",
       "    <tr>\n",
       "      <th>1</th>\n",
       "      <td>zytuxtm newly</td>\n",
       "      <td>349059</td>\n",
       "    </tr>\n",
       "    <tr>\n",
       "      <th>2</th>\n",
       "      <td>zytux iranian rituximab</td>\n",
       "      <td>349058</td>\n",
       "    </tr>\n",
       "    <tr>\n",
       "      <th>3</th>\n",
       "      <td>zytux iranian</td>\n",
       "      <td>349057</td>\n",
       "    </tr>\n",
       "    <tr>\n",
       "      <th>4</th>\n",
       "      <td>zytostatikum verbessert therapieergebnisse</td>\n",
       "      <td>349056</td>\n",
       "    </tr>\n",
       "  </tbody>\n",
       "</table>\n",
       "</div>"
      ],
      "text/plain": [
       "                                       entity  frequency\n",
       "0                     zytuxtm newly diagnosed     349060\n",
       "1                               zytuxtm newly     349059\n",
       "2                     zytux iranian rituximab     349058\n",
       "3                               zytux iranian     349057\n",
       "4  zytostatikum verbessert therapieergebnisse     349056"
      ]
     },
     "execution_count": 27,
     "metadata": {},
     "output_type": "execute_result"
    }
   ],
   "source": [
    "objective1 = pd.DataFrame(x.items(),columns = ['entity','frequency'])\n",
    "objective1.sort_values(by = 'frequency',ascending = False,inplace = True,ignore_index = True)\n",
    "objective1.head()"
   ]
  },
  {
   "cell_type": "code",
   "execution_count": 28,
   "id": "1ff40872",
   "metadata": {},
   "outputs": [],
   "source": [
    "objective1.to_csv('objective1.csv')"
   ]
  },
  {
   "cell_type": "markdown",
   "id": "b4802079",
   "metadata": {},
   "source": [
    "## OBJECTIVE-2"
   ]
  },
  {
   "cell_type": "code",
   "execution_count": 29,
   "id": "c7566c4c",
   "metadata": {},
   "outputs": [],
   "source": [
    "df['tweet_text'] = text.values"
   ]
  },
  {
   "cell_type": "code",
   "execution_count": 31,
   "id": "58b43900",
   "metadata": {},
   "outputs": [],
   "source": [
    "\n",
    "df['tweet_text'] = df['tweet_text'].apply(lambda x : [x])"
   ]
  },
  {
   "cell_type": "code",
   "execution_count": 32,
   "id": "42f9cfc0",
   "metadata": {},
   "outputs": [
    {
     "data": {
      "text/html": [
       "<div>\n",
       "<style scoped>\n",
       "    .dataframe tbody tr th:only-of-type {\n",
       "        vertical-align: middle;\n",
       "    }\n",
       "\n",
       "    .dataframe tbody tr th {\n",
       "        vertical-align: top;\n",
       "    }\n",
       "\n",
       "    .dataframe thead th {\n",
       "        text-align: right;\n",
       "    }\n",
       "</style>\n",
       "<table border=\"1\" class=\"dataframe\">\n",
       "  <thead>\n",
       "    <tr style=\"text-align: right;\">\n",
       "      <th></th>\n",
       "      <th>tweet_author</th>\n",
       "      <th>tweet_text</th>\n",
       "    </tr>\n",
       "  </thead>\n",
       "  <tbody>\n",
       "    <tr>\n",
       "      <th>0</th>\n",
       "      <td>Hematopoiesis News</td>\n",
       "      <td>[scientist conducted phase ii study acalabruti...</td>\n",
       "    </tr>\n",
       "    <tr>\n",
       "      <th>1</th>\n",
       "      <td>Michael Wang, MD</td>\n",
       "      <td>[phase acalabrutinib venetoclax av trial still...</td>\n",
       "    </tr>\n",
       "    <tr>\n",
       "      <th>2</th>\n",
       "      <td>1stOncology</td>\n",
       "      <td>[back]</td>\n",
       "    </tr>\n",
       "    <tr>\n",
       "      <th>3</th>\n",
       "      <td>Toby Eyre</td>\n",
       "      <td>[valuable option pt intolerant valuable data h...</td>\n",
       "    </tr>\n",
       "    <tr>\n",
       "      <th>4</th>\n",
       "      <td>Lymphoma Hub</td>\n",
       "      <td>[nice recommended use acalabrutinib patient tr...</td>\n",
       "    </tr>\n",
       "  </tbody>\n",
       "</table>\n",
       "</div>"
      ],
      "text/plain": [
       "         tweet_author                                         tweet_text\n",
       "0  Hematopoiesis News  [scientist conducted phase ii study acalabruti...\n",
       "1    Michael Wang, MD  [phase acalabrutinib venetoclax av trial still...\n",
       "2         1stOncology                                             [back]\n",
       "3           Toby Eyre  [valuable option pt intolerant valuable data h...\n",
       "4        Lymphoma Hub  [nice recommended use acalabrutinib patient tr..."
      ]
     },
     "execution_count": 32,
     "metadata": {},
     "output_type": "execute_result"
    }
   ],
   "source": [
    "df.head()"
   ]
  },
  {
   "cell_type": "code",
   "execution_count": 33,
   "id": "43a0ce82",
   "metadata": {},
   "outputs": [
    {
     "data": {
      "text/plain": [
       "['x', 's']"
      ]
     },
     "execution_count": 33,
     "metadata": {},
     "output_type": "execute_result"
    }
   ],
   "source": [
    "['x']+['s']"
   ]
  },
  {
   "cell_type": "code",
   "execution_count": 34,
   "id": "b60420ba",
   "metadata": {},
   "outputs": [
    {
     "data": {
      "text/html": [
       "<div>\n",
       "<style scoped>\n",
       "    .dataframe tbody tr th:only-of-type {\n",
       "        vertical-align: middle;\n",
       "    }\n",
       "\n",
       "    .dataframe tbody tr th {\n",
       "        vertical-align: top;\n",
       "    }\n",
       "\n",
       "    .dataframe thead th {\n",
       "        text-align: right;\n",
       "    }\n",
       "</style>\n",
       "<table border=\"1\" class=\"dataframe\">\n",
       "  <thead>\n",
       "    <tr style=\"text-align: right;\">\n",
       "      <th></th>\n",
       "      <th>tweet_author</th>\n",
       "      <th>tweet_text</th>\n",
       "    </tr>\n",
       "  </thead>\n",
       "  <tbody>\n",
       "    <tr>\n",
       "      <th>0</th>\n",
       "      <td>Camilla White</td>\n",
       "      <td>[pleotropic activity, ]</td>\n",
       "    </tr>\n",
       "    <tr>\n",
       "      <th>1</th>\n",
       "      <td>Emilie Thompson</td>\n",
       "      <td>[pleotropic activity, ]</td>\n",
       "    </tr>\n",
       "    <tr>\n",
       "      <th>2</th>\n",
       "      <td>Hannah Wright</td>\n",
       "      <td>[pleotropic activity, ]</td>\n",
       "    </tr>\n",
       "    <tr>\n",
       "      <th>3</th>\n",
       "      <td>Yvianna   </td>\n",
       "      <td>[saudade]</td>\n",
       "    </tr>\n",
       "    <tr>\n",
       "      <th>4</th>\n",
       "      <td>#DestroyTheAadhaar    TwiLightOFTheGODS</td>\n",
       "      <td>[uk hospital trial five new drug search corona...</td>\n",
       "    </tr>\n",
       "    <tr>\n",
       "      <th>5</th>\n",
       "      <td>#Endsars protest</td>\n",
       "      <td>[medical news today outlook chronic lymphocyti...</td>\n",
       "    </tr>\n",
       "    <tr>\n",
       "      <th>6</th>\n",
       "      <td>#Enritchansrajpandey</td>\n",
       "      <td>[good morning exclusive morning market news am...</td>\n",
       "    </tr>\n",
       "    <tr>\n",
       "      <th>7</th>\n",
       "      <td>#KING OF FLORIDA 👑</td>\n",
       "      <td>[venetoclax powerful new kind cancer drug effe...</td>\n",
       "    </tr>\n",
       "    <tr>\n",
       "      <th>8</th>\n",
       "      <td>#LeoWeichafe</td>\n",
       "      <td>[esperando que comience la lucha ac en]</td>\n",
       "    </tr>\n",
       "    <tr>\n",
       "      <th>9</th>\n",
       "      <td>#Memory</td>\n",
       "      <td>[antitumor potency anti cd chimeric antigen re...</td>\n",
       "    </tr>\n",
       "  </tbody>\n",
       "</table>\n",
       "</div>"
      ],
      "text/plain": [
       "                              tweet_author  \\\n",
       "0                            Camilla White   \n",
       "1                          Emilie Thompson   \n",
       "2                            Hannah Wright   \n",
       "3                              Yvianna      \n",
       "4  #DestroyTheAadhaar    TwiLightOFTheGODS   \n",
       "5                         #Endsars protest   \n",
       "6                     #Enritchansrajpandey   \n",
       "7                       #KING OF FLORIDA 👑   \n",
       "8                             #LeoWeichafe   \n",
       "9                                  #Memory   \n",
       "\n",
       "                                          tweet_text  \n",
       "0                            [pleotropic activity, ]  \n",
       "1                            [pleotropic activity, ]  \n",
       "2                            [pleotropic activity, ]  \n",
       "3                                          [saudade]  \n",
       "4  [uk hospital trial five new drug search corona...  \n",
       "5  [medical news today outlook chronic lymphocyti...  \n",
       "6  [good morning exclusive morning market news am...  \n",
       "7  [venetoclax powerful new kind cancer drug effe...  \n",
       "8            [esperando que comience la lucha ac en]  \n",
       "9  [antitumor potency anti cd chimeric antigen re...  "
      ]
     },
     "execution_count": 34,
     "metadata": {},
     "output_type": "execute_result"
    }
   ],
   "source": [
    "df1 = df.groupby('tweet_author')['tweet_text'].sum()\n",
    "df1 = pd.DataFrame(df1.reset_index())\n",
    "df1.head(10)"
   ]
  },
  {
   "cell_type": "code",
   "execution_count": 39,
   "id": "ab9df651",
   "metadata": {},
   "outputs": [],
   "source": [
    "cv = CountVectorizer(ngram_range= (2,3))\n",
    "def cvtransform(data):\n",
    "    try:\n",
    "        x = cv.fit(data)\n",
    "        return x.get_feature_names_out()\n",
    "\n",
    "    except:\n",
    "        return data\n",
    "\n",
    "df['tweet_text'] = df['tweet_text'].apply(lambda x: cvtransform(x))"
   ]
  },
  {
   "cell_type": "code",
   "execution_count": 45,
   "id": "140e0f5e",
   "metadata": {},
   "outputs": [
    {
     "data": {
      "text/html": [
       "<div>\n",
       "<style scoped>\n",
       "    .dataframe tbody tr th:only-of-type {\n",
       "        vertical-align: middle;\n",
       "    }\n",
       "\n",
       "    .dataframe tbody tr th {\n",
       "        vertical-align: top;\n",
       "    }\n",
       "\n",
       "    .dataframe thead th {\n",
       "        text-align: right;\n",
       "    }\n",
       "</style>\n",
       "<table border=\"1\" class=\"dataframe\">\n",
       "  <thead>\n",
       "    <tr style=\"text-align: right;\">\n",
       "      <th></th>\n",
       "      <th>tweet_author</th>\n",
       "      <th>tweet_text</th>\n",
       "    </tr>\n",
       "  </thead>\n",
       "  <tbody>\n",
       "    <tr>\n",
       "      <th>0</th>\n",
       "      <td>Hematopoiesis News</td>\n",
       "      <td>acalabrutinib patient</td>\n",
       "    </tr>\n",
       "    <tr>\n",
       "      <th>1</th>\n",
       "      <td>Hematopoiesis News</td>\n",
       "      <td>acalabrutinib patient relapsed</td>\n",
       "    </tr>\n",
       "    <tr>\n",
       "      <th>2</th>\n",
       "      <td>Hematopoiesis News</td>\n",
       "      <td>conducted phase</td>\n",
       "    </tr>\n",
       "    <tr>\n",
       "      <th>3</th>\n",
       "      <td>Hematopoiesis News</td>\n",
       "      <td>conducted phase ii</td>\n",
       "    </tr>\n",
       "    <tr>\n",
       "      <th>4</th>\n",
       "      <td>Hematopoiesis News</td>\n",
       "      <td>found overall</td>\n",
       "    </tr>\n",
       "  </tbody>\n",
       "</table>\n",
       "</div>"
      ],
      "text/plain": [
       "         tweet_author                      tweet_text\n",
       "0  Hematopoiesis News           acalabrutinib patient\n",
       "1  Hematopoiesis News  acalabrutinib patient relapsed\n",
       "2  Hematopoiesis News                 conducted phase\n",
       "3  Hematopoiesis News              conducted phase ii\n",
       "4  Hematopoiesis News                   found overall"
      ]
     },
     "execution_count": 45,
     "metadata": {},
     "output_type": "execute_result"
    }
   ],
   "source": [
    "df = df.explode('tweet_text').reset_index(drop = True)\n",
    "df.head()"
   ]
  },
  {
   "cell_type": "code",
   "execution_count": 53,
   "id": "6c3ce70b",
   "metadata": {},
   "outputs": [],
   "source": [
    "sia = SentimentIntensityAnalyzer()    \n",
    "def polarity(data):\n",
    "    if  sia.polarity_scores(data)['compound'] > 0:\n",
    "        return 'Positive'\n",
    "    elif sia.polarity_scores(data)['compound'] == 0:\n",
    "        return 'Neutral'\n",
    "    else:\n",
    "        return 'Negative'\n",
    "\n",
    "df['compound'] = df['tweet_text'].apply(lambda x : polarity(x))"
   ]
  },
  {
   "cell_type": "code",
   "execution_count": 60,
   "id": "a54893bb",
   "metadata": {},
   "outputs": [],
   "source": [
    "df.columns = ['author_name','entity','overall_polarity']"
   ]
  },
  {
   "cell_type": "code",
   "execution_count": 63,
   "id": "f74c28b9",
   "metadata": {},
   "outputs": [
    {
     "data": {
      "text/html": [
       "<div>\n",
       "<style scoped>\n",
       "    .dataframe tbody tr th:only-of-type {\n",
       "        vertical-align: middle;\n",
       "    }\n",
       "\n",
       "    .dataframe tbody tr th {\n",
       "        vertical-align: top;\n",
       "    }\n",
       "\n",
       "    .dataframe thead th {\n",
       "        text-align: right;\n",
       "    }\n",
       "</style>\n",
       "<table border=\"1\" class=\"dataframe\">\n",
       "  <thead>\n",
       "    <tr style=\"text-align: right;\">\n",
       "      <th></th>\n",
       "      <th>entity</th>\n",
       "      <th>author_name</th>\n",
       "      <th>overall_polarity</th>\n",
       "    </tr>\n",
       "  </thead>\n",
       "  <tbody>\n",
       "    <tr>\n",
       "      <th>0</th>\n",
       "      <td>acalabrutinib patient</td>\n",
       "      <td>Hematopoiesis News</td>\n",
       "      <td>Neutral</td>\n",
       "    </tr>\n",
       "    <tr>\n",
       "      <th>1</th>\n",
       "      <td>acalabrutinib patient relapsed</td>\n",
       "      <td>Hematopoiesis News</td>\n",
       "      <td>Neutral</td>\n",
       "    </tr>\n",
       "    <tr>\n",
       "      <th>2</th>\n",
       "      <td>conducted phase</td>\n",
       "      <td>Hematopoiesis News</td>\n",
       "      <td>Neutral</td>\n",
       "    </tr>\n",
       "    <tr>\n",
       "      <th>3</th>\n",
       "      <td>conducted phase ii</td>\n",
       "      <td>Hematopoiesis News</td>\n",
       "      <td>Neutral</td>\n",
       "    </tr>\n",
       "    <tr>\n",
       "      <th>4</th>\n",
       "      <td>found overall</td>\n",
       "      <td>Hematopoiesis News</td>\n",
       "      <td>Neutral</td>\n",
       "    </tr>\n",
       "    <tr>\n",
       "      <th>...</th>\n",
       "      <td>...</td>\n",
       "      <td>...</td>\n",
       "      <td>...</td>\n",
       "    </tr>\n",
       "    <tr>\n",
       "      <th>766544</th>\n",
       "      <td>subset young chronic</td>\n",
       "      <td>Medibooks</td>\n",
       "      <td>Neutral</td>\n",
       "    </tr>\n",
       "    <tr>\n",
       "      <th>766545</th>\n",
       "      <td>tlr myd</td>\n",
       "      <td>Medibooks</td>\n",
       "      <td>Neutral</td>\n",
       "    </tr>\n",
       "    <tr>\n",
       "      <th>766546</th>\n",
       "      <td>tlr myd pathway</td>\n",
       "      <td>Medibooks</td>\n",
       "      <td>Neutral</td>\n",
       "    </tr>\n",
       "    <tr>\n",
       "      <th>766547</th>\n",
       "      <td>young chronic</td>\n",
       "      <td>Medibooks</td>\n",
       "      <td>Neutral</td>\n",
       "    </tr>\n",
       "    <tr>\n",
       "      <th>766548</th>\n",
       "      <td>young chronic lymphocytic</td>\n",
       "      <td>Medibooks</td>\n",
       "      <td>Neutral</td>\n",
       "    </tr>\n",
       "  </tbody>\n",
       "</table>\n",
       "<p>766549 rows × 3 columns</p>\n",
       "</div>"
      ],
      "text/plain": [
       "                                entity         author_name overall_polarity\n",
       "0                acalabrutinib patient  Hematopoiesis News          Neutral\n",
       "1       acalabrutinib patient relapsed  Hematopoiesis News          Neutral\n",
       "2                      conducted phase  Hematopoiesis News          Neutral\n",
       "3                   conducted phase ii  Hematopoiesis News          Neutral\n",
       "4                        found overall  Hematopoiesis News          Neutral\n",
       "...                                ...                 ...              ...\n",
       "766544            subset young chronic           Medibooks          Neutral\n",
       "766545                         tlr myd           Medibooks          Neutral\n",
       "766546                 tlr myd pathway           Medibooks          Neutral\n",
       "766547                   young chronic           Medibooks          Neutral\n",
       "766548       young chronic lymphocytic           Medibooks          Neutral\n",
       "\n",
       "[766549 rows x 3 columns]"
      ]
     },
     "execution_count": 63,
     "metadata": {},
     "output_type": "execute_result"
    }
   ],
   "source": [
    "def swap_columns(df, col1, col2):\n",
    "    col_list = list(df.columns)\n",
    "    x, y = col_list.index(col1), col_list.index(col2)\n",
    "    col_list[y], col_list[x] = col_list[x], col_list[y]\n",
    "    df = df[col_list]\n",
    "    return df\n",
    "swap_columns(df,'author_name','entity')"
   ]
  },
  {
   "cell_type": "code",
   "execution_count": 65,
   "id": "d037bd5f",
   "metadata": {},
   "outputs": [],
   "source": [
    "df.to_csv('objective-2.csv')"
   ]
  }
 ],
 "metadata": {
  "kernelspec": {
   "display_name": "Python 3 (ipykernel)",
   "language": "python",
   "name": "python3"
  },
  "language_info": {
   "codemirror_mode": {
    "name": "ipython",
    "version": 3
   },
   "file_extension": ".py",
   "mimetype": "text/x-python",
   "name": "python",
   "nbconvert_exporter": "python",
   "pygments_lexer": "ipython3",
   "version": "3.9.12"
  }
 },
 "nbformat": 4,
 "nbformat_minor": 5
}
